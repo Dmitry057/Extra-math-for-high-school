{
  "nbformat": 4,
  "nbformat_minor": 0,
  "metadata": {
    "colab": {
      "provenance": [],
      "authorship_tag": "ABX9TyNighaCxeco3VKPxu6+/RKY",
      "include_colab_link": true
    },
    "kernelspec": {
      "name": "python3",
      "display_name": "Python 3"
    },
    "language_info": {
      "name": "python"
    }
  },
  "cells": [
    {
      "cell_type": "markdown",
      "metadata": {
        "id": "view-in-github",
        "colab_type": "text"
      },
      "source": [
        "<a href=\"https://colab.research.google.com/github/SergeiSa/Extra-math-for-high-school/blob/main/ColabNotebooks/2D_vectors_and_lines.ipynb\" target=\"_parent\"><img src=\"https://colab.research.google.com/assets/colab-badge.svg\" alt=\"Open In Colab\"/></a>"
      ]
    },
    {
      "cell_type": "markdown",
      "source": [
        "# Simple line\n",
        "\n",
        "Let us draw a simple line going through the origin."
      ],
      "metadata": {
        "id": "6DzvL8OyLGVG"
      }
    },
    {
      "cell_type": "code",
      "execution_count": 17,
      "metadata": {
        "colab": {
          "base_uri": "https://localhost:8080/",
          "height": 265
        },
        "id": "SEEXrkY9IFZr",
        "outputId": "6d709cab-0b89-4ca3-dafc-e4c2347bd254"
      },
      "outputs": [
        {
          "output_type": "display_data",
          "data": {
            "text/plain": [
              "<Figure size 432x288 with 1 Axes>"
            ],
            "image/png": "[encoded data removed]"
          },
          "metadata": {
            "needs_background": "light"
          }
        }
      ],
      "source": [
        "import numpy as np\n",
        "import matplotlib\n",
        "from matplotlib.pyplot import gca as gca\n",
        "from matplotlib.pyplot import grid as grid\n",
        "\n",
        "v = np.array([1, 1.3])\n",
        "\n",
        "Count = 100\n",
        "lambdas = np.linspace(-5.0, 5.0, num=Count)\n",
        "Points = np.zeros((2, Count))\n",
        "\n",
        "for i in range(Count):\n",
        "    Points[:, i] = v*lambdas[i]\n",
        "\n",
        "matplotlib.pyplot.plot(Points[0, :], Points[1, :])\n",
        "ax = gca()\n",
        "ax.set_aspect('equal', 'box')\n",
        "grid(color='k', linestyle='--', linewidth=0.2)"
      ]
    },
    {
      "cell_type": "markdown",
      "source": [
        "# Line, orthogonal to the other\n",
        "\n",
        "Let us draw a line perpendicular to another."
      ],
      "metadata": {
        "id": "fXLnRlqgLV-5"
      }
    },
    {
      "cell_type": "code",
      "source": [
        "import numpy as np\n",
        "from numpy.linalg import norm as norm\n",
        "\n",
        "import matplotlib\n",
        "from matplotlib.pyplot import gca as gca\n",
        "from matplotlib.pyplot import grid as grid\n",
        "\n",
        "v = np.array([1, 1.3])\n",
        "v = v / norm(v)\n",
        "\n",
        "#find n orthogonal to v\n",
        "n = np.zeros((2, ))\n",
        "n[0] = 1\n",
        "n[1] = -v[0] / v[1]\n",
        "n = n / norm(n)\n",
        "\n",
        "Count = 100\n",
        "lambdas = np.linspace(-5.0, 5.0, num=Count)\n",
        "Points_V = np.zeros((2, Count))\n",
        "Points_N = np.zeros((2, Count))\n",
        "\n",
        "for i in range(Count):\n",
        "    Points_V[:, i] = v*lambdas[i]\n",
        "    Points_N[:, i] = n*lambdas[i]\n",
        "\n",
        "matplotlib.pyplot.plot(Points_V[0, :], Points_V[1, :], 'b')\n",
        "matplotlib.pyplot.plot(Points_N[0, :], Points_N[1, :], 'r')\n",
        "ax = gca()\n",
        "ax.set_aspect('equal', 'box')\n",
        "grid(color='k', linestyle='--', linewidth=0.2)"
      ],
      "metadata": {
        "colab": {
          "base_uri": "https://localhost:8080/",
          "height": 265
        },
        "id": "XbTtbu8xLiP2",
        "outputId": "1d504796-ce1f-4ba9-d720-3906dccd5661"
      },
      "execution_count": 20,
      "outputs": [
        {
          "output_type": "display_data",
          "data": {
            "text/plain": [
              "<Figure size 432x288 with 1 Axes>"
            ],
            "image/png": "[encoded data removed]"
          },
          "metadata": {
            "needs_background": "light"
          }
        }
      ]
    },
    {
      "cell_type": "markdown",
      "source": [
        "# Line, parallel to the other, with distance\n",
        "\n",
        "Given a line $y = ax$, draw line $y = ax + b$ a distance $h$ from the first one."
      ],
      "metadata": {
        "id": "KZzRfiWaMeyl"
      }
    },
    {
      "cell_type": "code",
      "source": [
        "import numpy as np\n",
        "from numpy.linalg import norm as norm\n",
        "\n",
        "import matplotlib\n",
        "from matplotlib.pyplot import gca as gca\n",
        "from matplotlib.pyplot import grid as grid\n",
        "\n",
        "v = np.array([1, 1.3])\n",
        "v = v / norm(v)\n",
        "\n",
        "h = 2.0\n",
        "\n",
        "#find n orthogonal to v\n",
        "n = np.zeros((2, ))\n",
        "n[0] = 1\n",
        "n[1] = -v[0] / v[1]\n",
        "n = h*n / norm(n)\n",
        "\n",
        "Count = 100\n",
        "lambdas = np.linspace(-5.0, 5.0, num=Count)\n",
        "Points_V = np.zeros((2, Count))\n",
        "Points_N = np.zeros((2, Count))\n",
        "\n",
        "for i in range(Count):\n",
        "    Points_V[:, i] = v*lambdas[i]\n",
        "    Points_N[:, i] = n + v*lambdas[i]\n",
        "\n",
        "matplotlib.pyplot.plot(Points_V[0, :], Points_V[1, :], 'b')\n",
        "matplotlib.pyplot.plot(Points_N[0, :], Points_N[1, :], 'r')\n",
        "ax = gca()\n",
        "ax.set_aspect('equal', 'box')\n",
        "grid(color='k', linestyle='--', linewidth=0.2)"
      ],
      "metadata": {
        "colab": {
          "base_uri": "https://localhost:8080/",
          "height": 265
        },
        "id": "Qp_WyoRvMvMB",
        "outputId": "dba2083d-de52-40e7-f66f-07c5329961de"
      },
      "execution_count": 22,
      "outputs": [
        {
          "output_type": "display_data",
          "data": {
            "text/plain": [
              "<Figure size 432x288 with 1 Axes>"
            ],
            "image/png": "[encoded data removed]"
          },
          "metadata": {
            "needs_background": "light"
          }
        }
      ]
    },
    {
      "cell_type": "markdown",
      "source": [
        "# Given two vectors, find angle between them\n"
      ],
      "metadata": {
        "id": "7coFTxmKNK-a"
      }
    },
    {
      "cell_type": "code",
      "source": [
        "import numpy as np\n",
        "from numpy.linalg import norm as norm\n",
        "from numpy import dot as dot\n",
        "\n",
        "\n",
        "v = np.array([np.sqrt(2)/2, np.sqrt(2)/2]) #45 degrees\n",
        "u = np.array([1/2, np.sqrt(3)/2])          #60 degrees\n",
        "\n",
        "phi = np.arccos( dot(v, u) / (norm(v) * norm(u)) )\n",
        "\n",
        "print(\"phi (grad): \")\n",
        "print(phi * 180 / np.pi)"
      ],
      "metadata": {
        "colab": {
          "base_uri": "https://localhost:8080/"
        },
        "id": "Y5q5csxjNKZS",
        "outputId": "0dc16045-b2e6-4243-a04e-73524651db6a"
      },
      "execution_count": 31,
      "outputs": [
        {
          "output_type": "stream",
          "name": "stdout",
          "text": [
            "phi (grad): \n",
            "14.999999999999945\n"
          ]
        }
      ]
    },
    {
      "cell_type": "markdown",
      "source": [
        "# Self-study\n",
        "\n",
        "## Task 1\n",
        "\n",
        "Find dot product of two vectors. Which ones are orthogoinal? Which ones are parallel?\n",
        "\n",
        "\n",
        "\n",
        "1.   $\\mathbf v = [3, \\ 0]$, $\\mathbf u = [0, \\ 2]$\n",
        "2.   $\\mathbf v = [2, \\ 1]$, $\\mathbf u = [1, \\ 2]$\n",
        "3.   $\\mathbf v = [-2, \\ 1]$, $\\mathbf u = [0, \\ 2]$\n",
        "4.   $\\mathbf v = [-5, \\ 3]$, $\\mathbf u = [2, \\ 2]$\n",
        "5.   $\\mathbf v = [-1, \\ 1]$, $\\mathbf u = [-2, \\ -2]$\n",
        "6.   $\\mathbf v = \\left[\\frac{\\sqrt(2)}{2}, \\ \\frac{\\sqrt(2)}{2} \\right]$, $\\mathbf u = \\left[-\\frac{\\sqrt(2)}{2}, \\ \\frac{\\sqrt(2)}{2} \\right]$\n",
        "6.   $\\mathbf v = \\left[\\sqrt(2), \\ \\sqrt(2) \\right]$, $\\mathbf u = \\left[-\\sqrt(2), \\ \\sqrt(2) \\right]$\n",
        "\n"
      ],
      "metadata": {
        "id": "ppFf8UrzO0gK"
      }
    },
    {
      "cell_type": "markdown",
      "source": [
        "## Task 2\n",
        "\n",
        "Find line, perpendicular to:\n",
        "\n",
        "1.   $y = 10x$\n",
        "2.   $y = -x$\n",
        "3.   $y = 2x$\n",
        "4.   $y = 3x$\n",
        "5.   $y = -6x$\n",
        "\n",
        "## Task 3\n",
        "\n",
        "Find line, parallel (the distance is $h$) to:\n",
        "\n",
        "1.   $y = 2x + 2$\n",
        "2.   $y = 3x + 7$\n",
        "3.   $y = -5x - 1$\n",
        "4.   $y = x + 2$\n",
        "5.   $y = -2x - 1$\n",
        "\n",
        "## Task 4\n",
        "\n",
        "Find angle between two lines:\n",
        "\n",
        "1.   $y = 10x + 1$ and $y = 3x + 7$\n",
        "2.   $y = -5x - 1$ and $y = x - 1$\n",
        "3.   $y = 2x$ and $y = -4x - 1$\n",
        "4.   $y = 3x - 1$ and $y = -2x - 4$\n",
        "5.   $y = -6x - 6$ and $y = -x - 1$"
      ],
      "metadata": {
        "id": "_5h3IGqoQFPU"
      }
    }
  ]
}