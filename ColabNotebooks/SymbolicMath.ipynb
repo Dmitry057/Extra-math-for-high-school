{
  "nbformat": 4,
  "nbformat_minor": 0,
  "metadata": {
    "colab": {
      "provenance": [],
      "authorship_tag": "ABX9TyN9TNgjOdlSq+wTpCwnWTVE",
      "include_colab_link": true
    },
    "kernelspec": {
      "name": "python3",
      "display_name": "Python 3"
    },
    "language_info": {
      "name": "python"
    }
  },
  "cells": [
    {
      "cell_type": "markdown",
      "metadata": {
        "id": "view-in-github",
        "colab_type": "text"
      },
      "source": [
        "<a href=\"https://colab.research.google.com/github/SergeiSa/Extra-math-for-high-school/blob/main/ColabNotebooks/SymbolicMath.ipynb\" target=\"_parent\"><img src=\"https://colab.research.google.com/assets/colab-badge.svg\" alt=\"Open In Colab\"/></a>"
      ]
    },
    {
      "cell_type": "code",
      "execution_count": 31,
      "metadata": {
        "colab": {
          "base_uri": "https://localhost:8080/"
        },
        "id": "VDb-n4nuo31S",
        "outputId": "c31f2a03-7286-452c-f135-b6e5ec19fa5f"
      },
      "outputs": [
        {
          "output_type": "stream",
          "name": "stdout",
          "text": [
            "y:\n",
            "x + 1\n",
            " \n",
            "dy/dx:\n",
            "1\n"
          ]
        }
      ],
      "source": [
        "from sympy import *\n",
        "\n",
        "x = symbols('x')\n",
        "\n",
        "y = x + 1\n",
        "dydx = diff(y, x)\n",
        "\n",
        "print(\"y:\")\n",
        "print(y)\n",
        "print(\" \")\n",
        "print(\"dy/dx:\")\n",
        "print(dydx)"
      ]
    },
    {
      "cell_type": "code",
      "source": [
        "y = x**2 + 1\n",
        "dydx = diff(y, x)\n",
        "\n",
        "print(\"y:\")\n",
        "print(y)\n",
        "print(\" \")\n",
        "print(\"dy/dx:\")\n",
        "print(dydx)"
      ],
      "metadata": {
        "colab": {
          "base_uri": "https://localhost:8080/"
        },
        "id": "4swegrJ1qLqm",
        "outputId": "f7f93905-b393-4182-9929-90af711db8f8"
      },
      "execution_count": 32,
      "outputs": [
        {
          "output_type": "stream",
          "name": "stdout",
          "text": [
            "y:\n",
            "x**2 + 1\n",
            " \n",
            "dy/dx:\n",
            "2*x\n"
          ]
        }
      ]
    },
    {
      "cell_type": "code",
      "source": [
        "y = 1/x\n",
        "dydx = diff(y, x)\n",
        "\n",
        "print(\"y:\")\n",
        "print(y)\n",
        "print(\" \")\n",
        "print(\"dy/dx:\")\n",
        "print(dydx)"
      ],
      "metadata": {
        "colab": {
          "base_uri": "https://localhost:8080/"
        },
        "id": "0wABg2tOqRdC",
        "outputId": "6cb196c4-c06b-477a-f37f-78742566dbdd"
      },
      "execution_count": 33,
      "outputs": [
        {
          "output_type": "stream",
          "name": "stdout",
          "text": [
            "y:\n",
            "1/x\n",
            " \n",
            "dy/dx:\n",
            "-1/x**2\n"
          ]
        }
      ]
    },
    {
      "cell_type": "code",
      "source": [
        "y = sin(1/x)\n",
        "dydx = diff(y, x)\n",
        "\n",
        "print(\"y:\")\n",
        "print(y)\n",
        "print(\" \")\n",
        "print(\"dy/dx:\")\n",
        "print(dydx)"
      ],
      "metadata": {
        "colab": {
          "base_uri": "https://localhost:8080/"
        },
        "id": "f_OVMcMjqZE8",
        "outputId": "bd0c8923-93b7-4ed1-d08b-c330c1970284"
      },
      "execution_count": 34,
      "outputs": [
        {
          "output_type": "stream",
          "name": "stdout",
          "text": [
            "y:\n",
            "sin(1/x)\n",
            " \n",
            "dy/dx:\n",
            "-cos(1/x)/x**2\n"
          ]
        }
      ]
    },
    {
      "cell_type": "code",
      "source": [
        "import numpy as np\n",
        "import matplotlib.pyplot as plt\n",
        "from matplotlib.pyplot import grid as grid\n",
        "\n",
        "y = x**2 - 2\n",
        "dydx = diff(y, x)\n",
        "\n",
        "original_function = lambdify(x, y, \"numpy\") \n",
        "derivative = lambdify(x, dydx, \"numpy\") \n",
        "\n",
        "x_linspace = np.linspace(-3, 3, 1000)\n",
        "\n",
        "y_linspace = original_function(x_linspace)\n",
        "dy_linspace = derivative(x_linspace)\n",
        "\n",
        "fig = plt.figure()\n",
        "ax = plt.axes()\n",
        "\n",
        "ax.plot(x_linspace, y_linspace)\n",
        "ax.plot(x_linspace, dy_linspace)\n",
        "\n",
        "# ax.set_aspect('equal', 'box')\n",
        "grid(color='k', linestyle='--', linewidth=0.2)"
      ],
      "metadata": {
        "id": "mcBWrXlJrOEg",
        "colab": {
          "base_uri": "https://localhost:8080/",
          "height": 265
        },
        "outputId": "b5cbe8b9-10ab-4916-daee-fdb4734c3020"
      },
      "execution_count": 35,
      "outputs": [
        {
          "output_type": "display_data",
          "data": {
            "text/plain": [
              "<Figure size 432x288 with 1 Axes>"
            ],
            "image/png": "[encoded data removed]"
          },
          "metadata": {
            "needs_background": "light"
          }
        }
      ]
    },
    {
      "cell_type": "code",
      "source": [
        "x0 = -1\n",
        "\n",
        "a = derivative(x0)\n",
        "y0 = original_function(x0)\n",
        "\n",
        "tangent_line = a * (x_linspace - x0) + y0\n",
        "\n",
        "fig = plt.figure()\n",
        "ax = plt.axes()\n",
        "\n",
        "ax.plot(x_linspace, y_linspace)\n",
        "ax.plot(x_linspace, tangent_line)\n",
        "ax.plot(x0, y0, 'o')\n",
        "\n",
        "# ax.set_aspect('equal', 'box')\n",
        "grid(color='k', linestyle='--', linewidth=0.2)"
      ],
      "metadata": {
        "colab": {
          "base_uri": "https://localhost:8080/",
          "height": 265
        },
        "id": "I7N-XxnvsaLq",
        "outputId": "78fbf84e-d93f-475c-9fe6-515d3f2c038b"
      },
      "execution_count": 36,
      "outputs": [
        {
          "output_type": "display_data",
          "data": {
            "text/plain": [
              "<Figure size 432x288 with 1 Axes>"
            ],
            "image/png": "[encoded data removed]"
          },
          "metadata": {
            "needs_background": "light"
          }
        }
      ]
    },
    {
      "cell_type": "code",
      "source": [
        "tangent_vector = np.array([[1], [a]])\n",
        "p = np.array([[x0], [y0]])\n",
        "\n",
        "# 1*n_x + a*n_y = 0;\n",
        "# n_x = 1,  n_y = -1 / a\n",
        "normal_vector = np.array([[1], [-1 / a]])\n",
        "normal_vector = normal_vector / np.linalg.norm(normal_vector)\n",
        "\n",
        "Count = 1000;\n",
        "t_linspace = np.linspace(-1, 1, 1000)\n",
        "\n",
        "normal_line = np.zeros((2, Count))\n",
        "for i in range(Count):\n",
        "    normal_line[:, i] = np.reshape(p + normal_vector*t_linspace[i], (2, ))\n",
        "\n",
        "fig = plt.figure()\n",
        "ax = plt.axes()\n",
        "\n",
        "ax.plot(x_linspace, y_linspace, 'k')\n",
        "ax.plot(x_linspace[150:500], tangent_line[150:500], 'b')\n",
        "ax.plot(normal_line[0, :], normal_line[1, :], 'r')\n",
        "ax.plot(x0, y0, 'o')\n",
        "\n",
        "\n",
        "\n",
        "ax.set_aspect('equal', 'box')\n",
        "grid(color='k', linestyle='--', linewidth=0.2)    "
      ],
      "metadata": {
        "colab": {
          "base_uri": "https://localhost:8080/",
          "height": 265
        },
        "id": "Xpu1yEdls-0Z",
        "outputId": "81b09ff3-6275-44fb-fe88-60a4c39b415c"
      },
      "execution_count": 43,
      "outputs": [
        {
          "output_type": "display_data",
          "data": {
            "text/plain": [
              "<Figure size 432x288 with 1 Axes>"
            ],
            "image/png": "[encoded data removed]"
          },
          "metadata": {
            "needs_background": "light"
          }
        }
      ]
    },
    {
      "cell_type": "code",
      "source": [
        "Count = 1000;\n",
        "second_curve = np.zeros((2, Count))\n",
        "\n",
        "x_linspace = np.linspace(-3, 3, 1000)\n",
        "\n",
        "distance = 0.5\n",
        "\n",
        "for i in range(Count):\n",
        "    x0 = x_linspace[i]\n",
        "    y0 = original_function(x0)\n",
        "    p = np.array([[x0], [y0]])\n",
        "\n",
        "    a = derivative(x0)\n",
        "    tangent_vector = np.array([[1], [a]])\n",
        "    normal_vector = np.array([[1], [-1 / a]])\n",
        "    normal_vector = normal_vector / np.linalg.norm(normal_vector)\n",
        "\n",
        "    second_curve[:, i] = np.reshape(p + normal_vector*distance, (2, ))\n",
        "\n",
        "fig = plt.figure()\n",
        "ax = plt.axes()\n",
        "\n",
        "ax.plot(x_linspace, y_linspace, 'k')\n",
        "ax.plot(second_curve[0, :], second_curve[1, :], 'r')\n",
        "\n",
        "ax.set_aspect('equal', 'box')\n",
        "grid(color='k', linestyle='--', linewidth=0.2)    "
      ],
      "metadata": {
        "colab": {
          "base_uri": "https://localhost:8080/",
          "height": 265
        },
        "id": "_FUuktSmwZBw",
        "outputId": "02026b38-092d-4fb1-dac0-64e2e86cecf6"
      },
      "execution_count": 44,
      "outputs": [
        {
          "output_type": "display_data",
          "data": {
            "text/plain": [
              "<Figure size 432x288 with 1 Axes>"
            ],
            "image/png": "[encoded data removed]"
          },
          "metadata": {
            "needs_background": "light"
          }
        }
      ]
    },
    {
      "cell_type": "code",
      "source": [
        "Count = 1000;\n",
        "second_curve = np.zeros((2, Count))\n",
        "\n",
        "x_linspace = np.linspace(-3, 3, 1000)\n",
        "\n",
        "distance = 0.5\n",
        "desired_direction = np.array([[0], [1]])\n",
        "# desired_direction = np.array([[0], [-1]])\n",
        "\n",
        "for i in range(Count):\n",
        "    x0 = x_linspace[i]\n",
        "    y0 = original_function(x0)\n",
        "    p = np.array([[x0], [y0]])\n",
        "\n",
        "    a = derivative(x0)\n",
        "    tangent_vector = np.array([[1], [a]])\n",
        "    normal_vector = np.array([[1], [-1 / a]])\n",
        "    normal_vector = normal_vector / np.linalg.norm(normal_vector)\n",
        "\n",
        "    norm_sign = np.dot(normal_vector.T, desired_direction)\n",
        "    norm_sign = norm_sign / abs(norm_sign)\n",
        "\n",
        "    second_curve[:, i] = np.reshape(p + normal_vector*distance*norm_sign, (2, ))\n",
        "\n",
        "fig = plt.figure()\n",
        "ax = plt.axes()\n",
        "\n",
        "ax.plot(x_linspace, y_linspace, 'k')\n",
        "ax.plot(second_curve[0, :], second_curve[1, :], 'r')\n",
        "\n",
        "ax.set_aspect('equal', 'box')\n",
        "grid(color='k', linestyle='--', linewidth=0.2)    "
      ],
      "metadata": {
        "colab": {
          "base_uri": "https://localhost:8080/",
          "height": 265
        },
        "id": "_x8Va8iUxUIH",
        "outputId": "567e2702-518f-4698-f6a4-429b18791758"
      },
      "execution_count": 54,
      "outputs": [
        {
          "output_type": "display_data",
          "data": {
            "text/plain": [
              "<Figure size 432x288 with 1 Axes>"
            ],
            "image/png": "[encoded data removed]"
          },
          "metadata": {
            "needs_background": "light"
          }
        }
      ]
    },
    {
      "cell_type": "markdown",
      "source": [
        "# Exercises\n",
        "\n",
        "## Find derivatives (by hand and / or in code):\n",
        "\n",
        "\n",
        "1. $$y(x) = x^3 - x/5$$\n",
        "2. $$y(x) = -x^5 + 2x$$\n",
        "3. $$y(x) = \\sqrt{x} + x$$\n",
        "4. $$y(x) = x^4 + x^2 - 10$$\n",
        "5. $$y(x) = 2x^4 + 5x^2 - x$$\n",
        "6. $$y(x) = x^10 + 9x^3 - 4$$\n",
        "\n",
        "\n",
        "## What is the slope of the function\n",
        "\n",
        "at the points $x = 5$ and $x = -1$?\n",
        "\n",
        "1. $$y(x) = x^2 - x$$\n",
        "2. $$y(x) = -x^2 + 2x$$\n",
        "3. $$y(x) = \\sqrt{x} + 2x$$\n",
        "4. $$y(x) = x^2 + x - 10$$\n",
        "5. $$y(x) = 2x^2 + 15x - x$$\n",
        "6. $$y(x) = x + 9x^3 - 4$$\n",
        "\n",
        "What are the tangent lines to the graphs at these points?\n",
        "\n",
        "## Find normal to a graph\n",
        "\n",
        "1. $y(x) = x^2 - x$ at a point $x = 2$\n",
        "2. $y(x) = -x^2 + 2x$ at a point $x = 5$\n",
        "3. $y(x) = \\sqrt{x} + 4x$ at a point $x = -3$"
      ],
      "metadata": {
        "id": "UdXfqsbm9WDd"
      }
    }
  ]
}