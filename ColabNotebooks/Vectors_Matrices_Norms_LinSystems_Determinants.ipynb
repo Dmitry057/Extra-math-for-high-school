{
  "nbformat": 4,
  "nbformat_minor": 0,
  "metadata": {
    "colab": {
      "provenance": [],
      "authorship_tag": "ABX9TyP50dKPslMLhsCGOOvW0fGa",
      "include_colab_link": true
    },
    "kernelspec": {
      "name": "python3",
      "display_name": "Python 3"
    },
    "language_info": {
      "name": "python"
    }
  },
  "cells": [
    {
      "cell_type": "markdown",
      "metadata": {
        "id": "view-in-github",
        "colab_type": "text"
      },
      "source": [
        "<a href=\"https://colab.research.google.com/github/SergeiSa/Extra-math-for-high-school/blob/main/ColabNotebooks/Vectors_Matrices_Norms_LinSystems_Determinants.ipynb\" target=\"_parent\"><img src=\"https://colab.research.google.com/assets/colab-badge.svg\" alt=\"Open In Colab\"/></a>"
      ]
    },
    {
      "cell_type": "markdown",
      "source": [
        "# Solving equations\n",
        "\n",
        "Let us solve:\n",
        "\n",
        "\\begin{equation}\n",
        "\\begin{cases}\n",
        "x_1   + 2 x_2 = 10 \\\\\n",
        "2 x_1 + 2 x_2 = 0 \n",
        "\\end{cases}\n",
        "\\end{equation}\n",
        "\n",
        "This is the same as\n",
        "\n",
        "\\begin{equation}\n",
        "\\begin{bmatrix}\n",
        "1   & 2  \\\\\n",
        "2   & 2  \n",
        "\\end{bmatrix}\n",
        "\\begin{bmatrix}\n",
        "x_1  \\\\\n",
        "x_2 \n",
        "\\end{bmatrix}\n",
        "=\n",
        "\\begin{bmatrix}\n",
        "10  \\\\\n",
        "0 \n",
        "\\end{bmatrix}\n",
        "\\end{equation}\n",
        "\n",
        "General form for this kind of problem is:\n",
        "\n",
        "\n",
        "\\begin{equation}\n",
        "\\mathbf{A} \\mathbf{x} = \\mathbf{b}\n",
        "\\end{equation}\n",
        "\n",
        "In this course we will solve it with $\\texttt{x = np.linalg.solve(A, b)}$ functionality of numpy. "
      ],
      "metadata": {
        "id": "jfTULB3C5cf4"
      }
    },
    {
      "cell_type": "code",
      "source": [
        "import numpy as np\n",
        "\n",
        "A = np.array([[1, 2], [2, 2]])\n",
        "b = np.array([10, 0])\n",
        "\n",
        "x = np.linalg.solve(A, b)\n",
        "\n",
        "print(\"solution:\")\n",
        "print(x)\n",
        "print(\"residual:\")\n",
        "print(A@x - b)"
      ],
      "metadata": {
        "colab": {
          "base_uri": "https://localhost:8080/"
        },
        "id": "Wf1qPFYI5Ayx",
        "outputId": "b3c89f18-43ce-4a17-a3f9-5dfff852e2fd"
      },
      "execution_count": null,
      "outputs": [
        {
          "output_type": "stream",
          "name": "stdout",
          "text": [
            "solution:\n",
            "[-10.  10.]\n",
            "residual:\n",
            "[0. 0.]\n"
          ]
        }
      ]
    },
    {
      "cell_type": "markdown",
      "source": [
        "Let us do it by hand. $2x_1 + 2x_2 = 0$, hence $x_1 = -x_2$, and therefore $x_1 + 2x_2 = 10$ becomes $-x_2 + 2x_2 = 10$, meaning that $x_2 = 10$ and finally $x_1 = -10$, QED."
      ],
      "metadata": {
        "id": "s_m9J3U5YGk5"
      }
    },
    {
      "cell_type": "markdown",
      "source": [
        "When we want to note the dimension of a vector, we use the following notation:\n",
        "\n",
        "\\begin{equation}\n",
        "\\mathbf{b} \\in \\mathbb{R}^n\n",
        "\\end{equation}\n",
        "\n",
        "where $\\mathbb{R}$ means space of real numbers and $n$ is the dimensions.\n",
        "\n",
        "For matrices it is similar:\n",
        "\n",
        "\\begin{equation}\n",
        "\\mathbf{A} \\in \\mathbb{R}^{n, n}\n",
        "\\end{equation}\n",
        "\n",
        "Why use this strange $\\mathbb{R}$? Because later you might see something like $\\mathbf{b} \\in \\mathbb{C}^n$, meaning it is a complex vector, or $\\mathbf{b} \\in \\mathbb{N}^n$ meaning it is a vector of integers. "
      ],
      "metadata": {
        "id": "0KL40HF_qYqj"
      }
    },
    {
      "cell_type": "markdown",
      "source": [
        "# Other dimensions\n",
        "\n",
        "Dimensions do not matter, we can deal with equations with 2, 3 and more variables the same way:\n",
        "\n",
        "\\begin{equation}\n",
        "\\begin{cases}\n",
        "x_1   - 4 x_2 + 5 x_3= 1 \\\\\n",
        "3 x_1 +   x_2 - 2 x_3= 1 \\\\ \n",
        "2 x_1 - 6 x_2 - 9 x_3= -2 \n",
        "\\end{cases}\n",
        "\\end{equation}\n",
        "\n",
        "This is the same as\n",
        "\n",
        "\\begin{equation}\n",
        "\\begin{bmatrix}\n",
        "1   & -4 &  5  \\\\\n",
        "3   &  1 & -2  \\\\  \n",
        "2   & -6 & -9   \n",
        "\\end{bmatrix}\n",
        "\\begin{bmatrix}\n",
        "x_1  \\\\\n",
        "x_2  \\\\\n",
        "x_3 \n",
        "\\end{bmatrix}\n",
        "=\n",
        "\\begin{bmatrix}\n",
        "1  \\\\\n",
        "1   \\\\\n",
        "-2 \n",
        "\\end{bmatrix}\n",
        "\\end{equation}\n",
        "\n",
        "Again, it is $\\mathbf{A} \\mathbf{x} = \\mathbf{b}$ and we solve it with $\\texttt{x = np.linalg.solve(A, b)}$. "
      ],
      "metadata": {
        "id": "DfCTQjqSWcNh"
      }
    },
    {
      "cell_type": "code",
      "source": [
        "A = np.array([[1, -4, 5], [3, 1, -2], [2, -6, -9]])\n",
        "b = np.array([1, 1, -2])\n",
        "\n",
        "x = np.linalg.solve(A, b)\n",
        "\n",
        "print(\"solution:\")\n",
        "print(x)\n",
        "print(\"residual:\")\n",
        "print(A@x - b)"
      ],
      "metadata": {
        "colab": {
          "base_uri": "https://localhost:8080/"
        },
        "id": "2JVCwPh2pKOb",
        "outputId": "85a31713-c36b-46bf-f933-05d3b071177b"
      },
      "execution_count": null,
      "outputs": [
        {
          "output_type": "stream",
          "name": "stdout",
          "text": [
            "solution:\n",
            "[0.43661972 0.14084507 0.22535211]\n",
            "residual:\n",
            "[-2.22044605e-16 -1.11022302e-16  0.00000000e+00]\n"
          ]
        }
      ]
    },
    {
      "cell_type": "markdown",
      "source": [
        "# Solving degenerate equations\n",
        "## Too many variables\n",
        "\n",
        "Let us solve a degenerate system of equations:\n",
        "\n",
        "\\begin{equation}\n",
        "x_1   + 2 x_2 = 10\n",
        "\\end{equation}\n",
        "\n",
        "This is the same as\n",
        "\n",
        "\\begin{equation}\n",
        "\\begin{bmatrix}\n",
        "1   & 2\n",
        "\\end{bmatrix}\n",
        "\\begin{bmatrix}\n",
        "x_1  \\\\\n",
        "x_2 \n",
        "\\end{bmatrix}\n",
        "=\n",
        "10\n",
        "\\end{equation}\n",
        "\n",
        "General form for this kind of problem is still:\n",
        "\n",
        "\\begin{equation}\n",
        "\\mathbf{A} \\mathbf{x} = \\mathbf{b}\n",
        "\\end{equation}\n",
        "\n",
        "We can solve it with $\\texttt{x, _, _, _ = np.linalg.lstsq(A, b, rcond=None)}$ fucntionality of numpy. "
      ],
      "metadata": {
        "id": "hhYcntIr9AqJ"
      }
    },
    {
      "cell_type": "code",
      "source": [
        "A = np.array([[1, 2]])\n",
        "b = np.array([10])\n",
        "\n",
        "x, _, _, _ = np.linalg.lstsq(A, b, rcond=None)\n",
        "\n",
        "print(\"solution:\")\n",
        "print(x)\n",
        "print(\"residual:\")\n",
        "print(A@x - b)"
      ],
      "metadata": {
        "colab": {
          "base_uri": "https://localhost:8080/"
        },
        "id": "ut5D-pau5-uI",
        "outputId": "73ed4ee8-81f2-430d-d065-a4d44710941b"
      },
      "execution_count": null,
      "outputs": [
        {
          "output_type": "stream",
          "name": "stdout",
          "text": [
            "solution:\n",
            "[2. 4.]\n",
            "residual:\n",
            "[0.]\n"
          ]
        }
      ]
    },
    {
      "cell_type": "markdown",
      "source": [
        "## Too many equations\n",
        "\n",
        "Let us solve a degenerate system of equations:\n",
        "\n",
        "\\begin{equation}\n",
        "\\begin{cases}\n",
        "  x_1   + 2 x_2 = 2 \\\\\n",
        "3 x_1   - 5 x_2 = 0  \\\\\n",
        "2 x_1   - 4 x_2 = 5\n",
        "\\end{cases}\n",
        "\\end{equation}\n",
        "\n",
        "This is the same as\n",
        "\n",
        "\\begin{equation}\n",
        "\\begin{bmatrix}\n",
        "1   &  2 \\\\\n",
        "3   & -5 \\\\ \n",
        "2   & -4\n",
        "\\end{bmatrix}\n",
        "\\begin{bmatrix}\n",
        "x_1  \\\\\n",
        "x_2 \n",
        "\\end{bmatrix}\n",
        "=\n",
        "\\begin{bmatrix}\n",
        "2 \\\\ 0 \\\\ 5\n",
        "\\end{bmatrix}\n",
        "\\end{equation}\n",
        "\n",
        "General form for this kind of problem is still:\n",
        "\n",
        "\\begin{equation}\n",
        "\\mathbf{A} \\mathbf{x} = \\mathbf{b}\n",
        "\\end{equation}\n",
        "\n",
        "We can solve it with $\\texttt{x, _, _, _ = np.linalg.lstsq(A, b, rcond=None)}$ fucntionality of numpy. \n",
        "\n"
      ],
      "metadata": {
        "id": "GZiDT22ya4Wy"
      }
    },
    {
      "cell_type": "code",
      "source": [
        "A = np.array([[1, 2], [3, -5], [2, -4]])\n",
        "b = np.array([[2], [0], [5]])\n",
        "\n",
        "x, _, _, _ = np.linalg.lstsq(A, b, rcond=None)\n",
        "\n",
        "print(\"solution:\")\n",
        "print(x)\n",
        "print(\"residual:\")\n",
        "print(A@x - b)"
      ],
      "metadata": {
        "colab": {
          "base_uri": "https://localhost:8080/"
        },
        "id": "m6e0cvcgbo93",
        "outputId": "d89a5fc5-c955-47f4-db14-1064687d4be2"
      },
      "execution_count": null,
      "outputs": [
        {
          "output_type": "stream",
          "name": "stdout",
          "text": [
            "solution:\n",
            "[[1.07936508]\n",
            " [0.14814815]]\n",
            "residual:\n",
            "[[-0.62433862]\n",
            " [ 2.4973545 ]\n",
            " [-3.43386243]]\n"
          ]
        }
      ]
    },
    {
      "cell_type": "markdown",
      "source": [
        "Note that residual is not zero!"
      ],
      "metadata": {
        "id": "LNjNzfQfb2lR"
      }
    },
    {
      "cell_type": "markdown",
      "source": [
        "## Degenerate square system\n",
        "\n",
        "The following system i ssquare (same number of variable and equations) but you still can not solve it normally:\n",
        "\n",
        "\\begin{equation}\n",
        "\\begin{cases}\n",
        "  x_1   - 2 x_2 = 0 \\\\\n",
        "3 x_1   - 6 x_2 = 2 \n",
        "\\end{cases}\n",
        "\\end{equation}\n",
        "\n",
        "This is the same as\n",
        "\n",
        "\\begin{equation}\n",
        "\\begin{bmatrix}\n",
        "1   & -2 \\\\\n",
        "3   & -6 \n",
        "\\end{bmatrix}\n",
        "\\begin{bmatrix}\n",
        "x_1  \\\\\n",
        "x_2 \n",
        "\\end{bmatrix}\n",
        "=\n",
        "\\begin{bmatrix}\n",
        "0 \\\\ 2\n",
        "\\end{bmatrix}\n",
        "\\end{equation}\n",
        "\n",
        "And it does not have a zero-residual solution.\n"
      ],
      "metadata": {
        "id": "pEp_jG8lloED"
      }
    },
    {
      "cell_type": "code",
      "source": [
        "A = np.array([[1, -2], [3, -6]])\n",
        "b = np.array([[0], [2]])\n",
        "\n",
        "x, _, _, _ = np.linalg.lstsq(A, b, rcond=None)\n",
        "\n",
        "print(\"solution:\")\n",
        "print(x)\n",
        "print(\"residual:\")\n",
        "print(A@x - b)"
      ],
      "metadata": {
        "colab": {
          "base_uri": "https://localhost:8080/"
        },
        "id": "znxxLGDXmTdH",
        "outputId": "eb3fe650-dba7-44eb-ffea-5eb81ac14389"
      },
      "execution_count": null,
      "outputs": [
        {
          "output_type": "stream",
          "name": "stdout",
          "text": [
            "solution:\n",
            "[[ 0.12]\n",
            " [-0.24]]\n",
            "residual:\n",
            "[[ 0.6]\n",
            " [-0.2]]\n"
          ]
        }
      ]
    },
    {
      "cell_type": "markdown",
      "source": [
        "## How do you tell if a system can be solved?\n",
        "\n",
        "The test is - to find if the matrix **determinant** is not zero.\n",
        "\n",
        "For 2 by 2 matrices, the determinant is found as follows:\n",
        "\n",
        "\\begin{equation}\n",
        "\\mathbf A =\n",
        "\\begin{bmatrix}\n",
        "a   & b  \\\\\n",
        "c   & d  \n",
        "\\end{bmatrix}\n",
        "\\end{equation}\n",
        "\n",
        "\\begin{equation}\n",
        "\\text{det} (\\mathbf A) =\n",
        "ad - bc\n",
        "\\end{equation}\n",
        "\n",
        "For anything other than 2 by 2 we find determinant as $\\texttt{d = np.linalg.det(A)}$ fucntionality of numpy. "
      ],
      "metadata": {
        "id": "VeFIXLeymcl-"
      }
    },
    {
      "cell_type": "code",
      "source": [
        "A = np.array([[1, -2], [3, -6]])\n",
        "d = np.linalg.det(A)\n",
        "\n",
        "print(\"determinant, matrix 1:\")\n",
        "print(d)\n",
        "\n",
        "A = np.array([[1, 1], [3, -6]])\n",
        "d = np.linalg.det(A)\n",
        "\n",
        "print(\"determinant, matrix 2:\")\n",
        "print(d)"
      ],
      "metadata": {
        "colab": {
          "base_uri": "https://localhost:8080/"
        },
        "id": "-Bd9viIznnmF",
        "outputId": "277215f9-7c1d-4f9f-8ebf-f3f9b8a2d4b7"
      },
      "execution_count": null,
      "outputs": [
        {
          "output_type": "stream",
          "name": "stdout",
          "text": [
            "determinant, matrix 1:\n",
            "0.0\n",
            "determinant, matrix 2:\n",
            "-9.000000000000002\n"
          ]
        }
      ]
    },
    {
      "cell_type": "markdown",
      "source": [
        "If a matrix has 0 determinant we call it **degenerate**. If the matrix has non-zero determinant, we call it **full-rank**.\n",
        "\n",
        "Some of the rules for degenerate matrices and determinants:\n",
        "\n",
        "\n",
        "*   If a matrix has linearly dependant columns or rows it would have 0 determinant.\n",
        "*   Only square matrices have a determinant.\n",
        "\n"
      ],
      "metadata": {
        "id": "3L7IKFIGn4Et"
      }
    },
    {
      "cell_type": "markdown",
      "source": [
        "# Linear combination\n",
        "\n",
        "Given a few vectors $\\mathbf v_1$, $\\mathbf v_2$, ..., $\\mathbf v_n \\in \\mathbb{R}^n$, their linear combination is defined as:\n",
        "\n",
        "\\begin{equation}\n",
        "\\mathbf w = \\alpha_1 \\mathbf v_1 + \\alpha_2 \\mathbf v_2 + ... + \\alpha_n \\mathbf v_n\n",
        "\\end{equation}\n",
        "\n",
        "where $\\alpha_i \\in \\mathbb{R}$ are linear coefficients.\n",
        "\n",
        "### Example\n",
        "\n",
        "Given $\\mathbf v_1$ and $\\mathbf v_2$:\n",
        "\n",
        "\\begin{equation}\n",
        "\\mathbf v_1 = \n",
        "\\begin{bmatrix} \n",
        "1 \\\\ 3\n",
        "\\end{bmatrix}, \\ \\ \n",
        "\\mathbf v_2 = \n",
        "\\begin{bmatrix} \n",
        "0 \\\\ 1\n",
        "\\end{bmatrix}\n",
        "\\end{equation}\n",
        "\n",
        "Then examples of their linear combinations are:\n",
        "\n",
        "\\begin{equation}\n",
        "\\mathbf w = 2 \\mathbf v_1 - \\mathbf v_2 = \n",
        "2\n",
        "\\begin{bmatrix} \n",
        "1 \\\\ 3\n",
        "\\end{bmatrix}\n",
        "-\n",
        "\\begin{bmatrix} \n",
        "0 \\\\ 1\n",
        "\\end{bmatrix}\n",
        "=\n",
        "\\begin{bmatrix} \n",
        "2 \\\\ 5\n",
        "\\end{bmatrix}\n",
        "\\end{equation}\n",
        "\n",
        "\\begin{equation}\n",
        "\\mathbf w = - 3\\mathbf v_1 + 2\\mathbf v_2 = \n",
        "-3\n",
        "\\begin{bmatrix} \n",
        "1 \\\\ 3\n",
        "\\end{bmatrix}\n",
        "+2\n",
        "\\begin{bmatrix} \n",
        "0 \\\\ 1\n",
        "\\end{bmatrix}\n",
        "=\n",
        "\\begin{bmatrix} \n",
        "-3 \\\\ -7\n",
        "\\end{bmatrix}\n",
        "\\end{equation}\n",
        "\n",
        "\n",
        "\\begin{equation}\n",
        "\\mathbf w = 5\\mathbf v_2 = \n",
        "5\n",
        "\\begin{bmatrix} \n",
        "0 \\\\ 1\n",
        "\\end{bmatrix}\n",
        "=\n",
        "\\begin{bmatrix} \n",
        "0 \\\\ 5\n",
        "\\end{bmatrix}\n",
        "\\end{equation}\n",
        "\n",
        "If a set of vectors contain none that is a linear combination of the others - we call them **linearly independant**."
      ],
      "metadata": {
        "id": "q61euk8eoyJZ"
      }
    },
    {
      "cell_type": "markdown",
      "source": [
        "# Linear combination and degenerate matrix\n",
        "\n",
        "If one of your matrix's columns is a linear combination of teh other - it will be degenerate. Lets look for an example. Consider teh matrix:\n",
        "\n",
        "\\begin{equation}\n",
        "\\mathbf A =\n",
        "\\begin{bmatrix}\n",
        "a_{11}   & a_{12}   \\\\\n",
        "a_{21}   & a_{22}   \n",
        "\\end{bmatrix}\n",
        "\\end{equation}\n",
        "\n",
        "Its columns are $\\mathbf a_1$ and $\\mathbf a_2$:\n",
        "\n",
        "\\begin{equation}\n",
        "\\mathbf a_1 =\n",
        "\\begin{bmatrix}\n",
        "a_{11}      \\\\\n",
        "a_{21}     \n",
        "\\end{bmatrix}, \\ \\ \n",
        "\\mathbf a_2 =\n",
        "\\begin{bmatrix}\n",
        "a_{21}      \\\\\n",
        "a_{22}     \n",
        "\\end{bmatrix}\n",
        "\\end{equation}\n",
        "\n",
        "If, for instance, $\\mathbf a_2 = 2 \\mathbf a_1$, the matrix $\\mathbf A$ will be degenerate.\n",
        "\n",
        "### Example\n",
        "\n",
        "\\begin{equation}\n",
        "\\mathbf a_1 =\n",
        "\\begin{bmatrix}\n",
        "2      \\\\\n",
        "-3     \n",
        "\\end{bmatrix}\n",
        "\\end{equation}\n",
        "\n",
        "\\begin{equation}\n",
        "\\mathbf a_2 = -\\mathbf a_1 =\n",
        "\\begin{bmatrix}\n",
        "-2      \\\\\n",
        "3     \n",
        "\\end{bmatrix}\n",
        "\\end{equation}\n",
        "\n",
        "Then matrix $\\mathbf A =\n",
        "\\begin{bmatrix}\n",
        "2    & -2   \\\\\n",
        "-3   & 3   \n",
        "\\end{bmatrix}$ is degenerate, and $\\text{det} (\\mathbf A) = 0$. Meaning, you can't solve a system like this one:\n",
        "\n",
        "\n",
        "\\begin{equation}\n",
        "\\begin{cases}\n",
        " 2 x_1   - 2 x_2 = 1 \\\\\n",
        "-3 x_1   + 3 x_2 = 0 \n",
        "\\end{cases}\n",
        "\\end{equation}\n",
        "\n",
        "Really though? Let us check. $-3 x_1   + 3 x_2 = 0$, therefore $x_1 = x_2$, and since $ 2 x_1   - 2 x_2 = 1$ we get $ 2 x_1   - 2 x_1 = 1$ and so $ 0 = 1$, which is clearly incorrect."
      ],
      "metadata": {
        "id": "7IA_QbBhvFSF"
      }
    },
    {
      "cell_type": "markdown",
      "source": [
        "Conversely - if n vectors $\\mathbf v_1$, $\\mathbf v_2$, ..., $\\mathbf v_n \\in \\mathbb{R}^n$ are linearly independant - the n-by-n matrix made by concatenating them is going to be full-rank."
      ],
      "metadata": {
        "id": "blb-RJjyA-eh"
      }
    },
    {
      "cell_type": "markdown",
      "source": [
        "# Self-study tasks\n",
        "\n",
        "1) Solve the following systems:\n",
        "\n",
        "\\begin{equation}\n",
        "\\begin{cases}\n",
        "-x_1   - 9 x_2 = 3 \\\\\n",
        "7 x_1  + 2 x_2 = -3 \n",
        "\\end{cases}\n",
        "\\end{equation}\n",
        "\n",
        "\\begin{equation}\n",
        "\\begin{cases}\n",
        " 2x_1   - 10 x_2 = 2 \\\\\n",
        "-3 x_1  + 5  x_2 = 1 \n",
        "\\end{cases}\n",
        "\\end{equation}\n",
        "\n",
        "\\begin{equation}\n",
        "\\begin{cases}\n",
        "-  x_1  + 5 x_2 = 9 \\\\\n",
        "-2 x_1  - 2 x_2 = 0 \n",
        "\\end{cases}\n",
        "\\end{equation}\n",
        "\n",
        "\\begin{equation}\n",
        "\\begin{cases}\n",
        "   x_1  + 5  x_2 = 1 \\\\\n",
        "-2 x_1  - 10 x_2 = 5 \n",
        "\\end{cases}\n",
        "\\end{equation}\n",
        "\n",
        "\n",
        "\\begin{equation}\n",
        "\\begin{cases}\n",
        "   x_1  - 5  x_2 + x_3   = 5 \\\\\n",
        "-2 x_1  - 10 x_2 + 7 x_3 = 5 \n",
        "\\end{cases}\n",
        "\\end{equation}"
      ],
      "metadata": {
        "id": "u5nnSIL1ySY5"
      }
    },
    {
      "cell_type": "markdown",
      "source": [
        "2) Find determinant for the following matrices, by hand and in code:\n",
        "\n",
        "\\begin{equation}\n",
        "\\mathbf A =\n",
        "\\begin{bmatrix}\n",
        "1   & -2 \\\\\n",
        "3   & -6 \n",
        "\\end{bmatrix}\n",
        "\\end{equation}\n",
        "\n",
        "\\begin{equation}\n",
        "\\mathbf A =\n",
        "\\begin{bmatrix}\n",
        "1   & 0 \\\\\n",
        "5   & 1 \n",
        "\\end{bmatrix}\n",
        "\\end{equation}\n",
        "\n",
        "\\begin{equation}\n",
        "\\mathbf A =\n",
        "\\begin{bmatrix}\n",
        "-1   & 4 \\\\\n",
        "-1   & 0 \n",
        "\\end{bmatrix}\n",
        "\\end{equation}\n",
        "\n",
        "\\begin{equation}\n",
        "\\mathbf A =\n",
        "\\begin{bmatrix}\n",
        "-2   & 1 \\\\\n",
        "-10   & 0 \n",
        "\\end{bmatrix}\n",
        "\\end{equation}\n",
        "\n",
        "\\begin{equation}\n",
        "\\mathbf A =\n",
        "\\begin{bmatrix}\n",
        "-10   & 1 \\\\\n",
        " 10   & 5 \n",
        "\\end{bmatrix}\n",
        "\\end{equation}\n",
        "\n",
        "\\begin{equation}\n",
        "\\mathbf A =\n",
        "\\begin{bmatrix}\n",
        "-3   & 0 \\\\\n",
        " 3   & 0 \n",
        "\\end{bmatrix}\n",
        "\\end{equation}\n",
        "\n",
        "Find norms of the columns of these matrices"
      ],
      "metadata": {
        "id": "GMtKY4UQzNIo"
      }
    },
    {
      "cell_type": "markdown",
      "source": [
        "3) Provide 3 examples of degenerate 3 by 3 matrices. Show that their determinants are zero."
      ],
      "metadata": {
        "id": "TsnEYmXBzrPX"
      }
    },
    {
      "cell_type": "markdown",
      "source": [
        "4) Consider vectors, are they linearly independant?\n",
        "\n",
        "\\begin{equation}\n",
        "\\mathbf v_1 =\n",
        "\\begin{bmatrix}\n",
        "3       \\\\\n",
        "-4    \n",
        "\\end{bmatrix}, \\ \\ \n",
        "\\mathbf v_2 =\n",
        "\\begin{bmatrix}\n",
        "5     \\\\\n",
        "1    \n",
        "\\end{bmatrix}\n",
        "\\end{equation}\n",
        "\n",
        "\\begin{equation}\n",
        "\\mathbf v_1 =\n",
        "\\begin{bmatrix}\n",
        "10       \\\\\n",
        "-15    \n",
        "\\end{bmatrix}, \\ \\ \n",
        "\\mathbf v_2 =\n",
        "\\begin{bmatrix}\n",
        "-2     \\\\\n",
        "3    \n",
        "\\end{bmatrix}\n",
        "\\end{equation}\n",
        "\n",
        "\\begin{equation}\n",
        "\\mathbf v_1 =\n",
        "\\begin{bmatrix}\n",
        "2       \\\\\n",
        "5    \n",
        "\\end{bmatrix}, \\ \\ \n",
        "\\mathbf v_2 =\n",
        "\\begin{bmatrix}\n",
        "1     \\\\\n",
        "10    \n",
        "\\end{bmatrix}\n",
        "\\end{equation}\n",
        "\n",
        "\n",
        "\\begin{equation}\n",
        "\\mathbf v_1 =\n",
        "\\begin{bmatrix}\n",
        "2       \\\\\n",
        "2       \\\\\n",
        "5    \n",
        "\\end{bmatrix}, \\ \\ \n",
        "\\mathbf v_2 =\n",
        "\\begin{bmatrix}\n",
        "1     \\\\\n",
        "0     \\\\\n",
        "0    \n",
        "\\end{bmatrix}, \\ \\ \n",
        "\\mathbf v_3 =\n",
        "\\begin{bmatrix}\n",
        "-1     \\\\\n",
        "2     \\\\\n",
        "0    \n",
        "\\end{bmatrix}\n",
        "\\end{equation}\n",
        "\n",
        "\n",
        "\\begin{equation}\n",
        "\\mathbf v_1 =\n",
        "\\begin{bmatrix}\n",
        "5       \\\\\n",
        "2       \\\\\n",
        "5    \n",
        "\\end{bmatrix}, \\ \\ \n",
        "\\mathbf v_2 =\n",
        "\\begin{bmatrix}\n",
        "-1     \\\\\n",
        "2     \\\\\n",
        "3    \n",
        "\\end{bmatrix}, \\ \\ \n",
        "\\mathbf v_3 =\n",
        "\\begin{bmatrix}\n",
        "5     \\\\\n",
        "-10     \\\\\n",
        "-15    \n",
        "\\end{bmatrix}\n",
        "\\end{equation}\n",
        "\n",
        "\n",
        "\\begin{equation}\n",
        "\\mathbf v_1 =\n",
        "\\begin{bmatrix}\n",
        "1       \\\\\n",
        "2       \\\\\n",
        "2    \n",
        "\\end{bmatrix}, \\ \\ \n",
        "\\mathbf v_2 =\n",
        "\\begin{bmatrix}\n",
        "3     \\\\\n",
        "0     \\\\\n",
        "2    \n",
        "\\end{bmatrix}, \\ \\ \n",
        "\\mathbf v_3 =\n",
        "\\begin{bmatrix}\n",
        "7     \\\\\n",
        "2     \\\\\n",
        "6    \n",
        "\\end{bmatrix}\n",
        "\\end{equation}"
      ],
      "metadata": {
        "id": "Xr8nRnQnBn6n"
      }
    }
  ]
}